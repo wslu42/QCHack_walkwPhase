{
 "cells": [
  {
   "cell_type": "code",
   "execution_count": 12,
   "metadata": {},
   "outputs": [],
   "source": [
    "import numpy as np\n",
    "from qiskit import QuantumCircuit, ClassicalRegister, QuantumRegister\n",
    "from qiskit import execute\n",
    "from qiskit.tools.visualization import plot_histogram\n",
    "\n",
    "import numpy as np\n",
    "\n",
    "from qiskit import QuantumCircuit, QuantumRegister, ClassicalRegister\n",
    "from qiskit import BasicAer, execute,QiskitError"
   ]
  },
  {
   "cell_type": "code",
   "execution_count": 13,
   "metadata": {},
   "outputs": [],
   "source": [
    "# this is how you make n bit toffoli\n",
    "# circuit.ccx(q[0], q[1], q[2])\n",
    "\n",
    "n=3"
   ]
  },
  {
   "cell_type": "code",
   "execution_count": 21,
   "metadata": {},
   "outputs": [
    {
     "ename": "NameError",
     "evalue": "name 'plot_state_city' is not defined",
     "output_type": "error",
     "traceback": [
      "\u001b[0;31m---------------------------------------------------------------------------\u001b[0m",
      "\u001b[0;31mNameError\u001b[0m                                 Traceback (most recent call last)",
      "\u001b[0;32m<ipython-input-21-5c3f03661870>\u001b[0m in \u001b[0;36m<module>\u001b[0;34m\u001b[0m\n\u001b[1;32m     11\u001b[0m \u001b[0;34m\u001b[0m\u001b[0m\n\u001b[1;32m     12\u001b[0m \u001b[0mqc\u001b[0m\u001b[0;34m.\u001b[0m\u001b[0mdraw\u001b[0m\u001b[0;34m(\u001b[0m\u001b[0moutput\u001b[0m\u001b[0;34m=\u001b[0m\u001b[0;34m'mpl'\u001b[0m\u001b[0;34m)\u001b[0m\u001b[0;34m\u001b[0m\u001b[0m\n\u001b[0;32m---> 13\u001b[0;31m \u001b[0mplot_state_city\u001b[0m\u001b[0;34m(\u001b[0m\u001b[0mstateVectorGenerator\u001b[0m\u001b[0;34m(\u001b[0m\u001b[0mqc\u001b[0m\u001b[0;34m)\u001b[0m\u001b[0;34m,\u001b[0m \u001b[0mtitle\u001b[0m\u001b[0;34m=\u001b[0m\u001b[0;34m'Bell state'\u001b[0m\u001b[0;34m)\u001b[0m\u001b[0;34m\u001b[0m\u001b[0m\n\u001b[0m",
      "\u001b[0;31mNameError\u001b[0m: name 'plot_state_city' is not defined"
     ]
    }
   ],
   "source": [
    "# coding a random walk via simple interpretation of the paper\n",
    "qnodes = QuantumRegister(n,'ctrl')\n",
    "\n",
    "subnodes = QuantumRegister(1,'anc')\n",
    "\n",
    "walk_cir = QuantumCircuit(qnodes,subnodes)\n",
    "\n",
    "walk_cir.h(subnodes[0])\n",
    "qc = increment_gate(walk_cir,qnodes,subnodes[0])\n",
    "qc = decrement_gate(walk_cir,qnodes,subnodes[0])\n",
    "\n",
    "qc.draw(output='mpl')\n",
    "plot_state_city(stateVectorGenerator(qc), title='Bell state')"
   ]
  },
  {
   "cell_type": "code",
   "execution_count": 15,
   "metadata": {},
   "outputs": [],
   "source": [
    "#IN/DECREMENT GATES FOR N=3\n",
    "\n",
    "def increment_gate(qc,q,subnode):\n",
    "  c = ClassicalRegister(1)\n",
    "  \n",
    "  qc.ccx(q[2], q[1], q[0])\n",
    "  qc.cx(q[2], q[1])\n",
    "  qc.x(q[2])\n",
    "  \n",
    "  for node in q:\n",
    "    qc.cx(subnode,node)\n",
    "   \n",
    "  qc.barrier()\n",
    "  return qc\n",
    "\n",
    "def decrement_gate(qc,q,subnode):\n",
    "  c = ClassicalRegister(1)\n",
    "  \n",
    "  qc.x(q[2])\n",
    "  qc.x(q[1])\n",
    "  qc.ccx(q[2], q[1], q[0])\n",
    "  qc.x(q[1])\n",
    "  \n",
    "  qc.cx(q[2], q[1])\n",
    "  \n",
    "\n",
    "  qc.x(subnode[0])\n",
    "  for node in q:\n",
    "    qc.cx(subnode, node)\n",
    "  qc.x(subnode[0])\n",
    "\n",
    "  return qc\n",
    "  "
   ]
  },
  {
   "cell_type": "code",
   "execution_count": 19,
   "metadata": {},
   "outputs": [],
   "source": [
    "def stateVectorGenerator(circ):\n",
    "    # Select the StatevectorSimulator from the Aer provider\n",
    "    simulator = BasicAer.get_backend('statevector_simulator')\n",
    "\n",
    "    # Execute and get counts\n",
    "    return execute(circ, simulator).result().get_statevector(circ)\n",
    "    "
   ]
  },
  {
   "cell_type": "code",
   "execution_count": null,
   "metadata": {},
   "outputs": [],
   "source": []
  }
 ],
 "metadata": {
  "kernelspec": {
   "display_name": "Python 3",
   "language": "python",
   "name": "python3"
  },
  "language_info": {
   "codemirror_mode": {
    "name": "ipython",
    "version": 3
   },
   "file_extension": ".py",
   "mimetype": "text/x-python",
   "name": "python",
   "nbconvert_exporter": "python",
   "pygments_lexer": "ipython3",
   "version": "3.6.8"
  }
 },
 "nbformat": 4,
 "nbformat_minor": 2
}
